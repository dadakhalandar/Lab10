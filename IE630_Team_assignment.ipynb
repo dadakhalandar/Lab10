{
  "nbformat": 4,
  "nbformat_minor": 0,
  "metadata": {
    "colab": {
      "name": "IE630_Team_assignment.ipynb",
      "provenance": [],
      "collapsed_sections": [],
      "include_colab_link": true
    },
    "kernelspec": {
      "name": "python3",
      "display_name": "Python 3"
    },
    "language_info": {
      "name": "python"
    }
  },
  "cells": [
    {
      "cell_type": "markdown",
      "metadata": {
        "id": "view-in-github",
        "colab_type": "text"
      },
      "source": [
        "<a href=\"https://colab.research.google.com/github/dadakhalandar/Lab10/blob/main/IE630_Team_assignment.ipynb\" target=\"_parent\"><img src=\"https://colab.research.google.com/assets/colab-badge.svg\" alt=\"Open In Colab\"/></a>"
      ]
    },
    {
      "cell_type": "markdown",
      "metadata": {
        "id": "mcJswgr2qmX-"
      },
      "source": [
        "TOPIC:2 \n",
        "Q)Make ten indepedent replications for the (M,L)"
      ]
    },
    {
      "cell_type": "code",
      "metadata": {
        "id": "6eoMcV-yqnLW"
      },
      "source": [
        "import numpy as np\n",
        "import random as r"
      ],
      "execution_count": 78,
      "outputs": []
    },
    {
      "cell_type": "code",
      "metadata": {
        "id": "Ea1W330CKnJC"
      },
      "source": [
        "def quantity(I,M,L,lead_time):\n",
        "  if I < L and 0<= lead_time <= 1:\n",
        "    Q = M-I\n",
        "  elif lead_time ==20 and I < L:\n",
        "    Q = M-I\n",
        "  else:\n",
        "    Q = 0\n",
        "  return Q "
      ],
      "execution_count": 79,
      "outputs": []
    },
    {
      "cell_type": "code",
      "metadata": {
        "id": "wjbdABe7LIpZ"
      },
      "source": [
        "def ord_cost(Q):\n",
        "  if Q > 0:\n",
        "   return 60 + 5*Q\n",
        "  else:\n",
        "    return 0"
      ],
      "execution_count": 80,
      "outputs": []
    },
    {
      "cell_type": "code",
      "metadata": {
        "id": "2K0V0HOpR-1U"
      },
      "source": [
        "def back_cost(I,D):\n",
        "  if I-D < 0:\n",
        "    return (D-I)*4\n",
        "  else:\n",
        "    return 0 "
      ],
      "execution_count": 81,
      "outputs": []
    },
    {
      "cell_type": "code",
      "metadata": {
        "id": "_VX1WOWWN-HQ"
      },
      "source": [
        "def inv_cost(I):\n",
        "  if I > 0:\n",
        "    return I\n",
        "  else:\n",
        "    return 0"
      ],
      "execution_count": 82,
      "outputs": []
    },
    {
      "cell_type": "code",
      "metadata": {
        "id": "HAlVWV6JVoqd"
      },
      "source": [
        "def sell(inv,monthly_demand,order_reciept):\n",
        "  b = [50,*inv]\n",
        "  revenue = []\n",
        "  for i in range(2):\n",
        "    if order_reciept[i]+b[i] > 0:\n",
        "      sales = min(order_reciept[i]+b[i],monthly_demand[i])*10\n",
        "      revenue.append(sales)\n",
        "\n",
        "  for i in range(2,len(inv),1):\n",
        "    z = b[i-2] - monthly_demand[i-2] - monthly_demand[i-1] \n",
        "    if z > 0 :\n",
        "      sales = min(z,monthly_demand[i])*5\n",
        "      if monthly_demand[i] > z:\n",
        "        sales = sales+ 10*min(order_reciept[i]+b[i]-z,monthly_demand[i]-z)\n",
        "    elif order_reciept[i]+b[i] > 0:\n",
        "      sales = min(order_reciept[i]+b[i],monthly_demand[i])*10\n",
        "    else:\n",
        "      sales = 0\n",
        "    revenue.append(sales)\n",
        "  return revenue"
      ],
      "execution_count": 83,
      "outputs": []
    },
    {
      "cell_type": "code",
      "metadata": {
        "id": "7DfZwNsAVB2o"
      },
      "source": [
        "def simulation(no_of_replication = 1, length_of_each_run = 100 ):\n",
        "  L = length_of_each_run\n",
        "  n = no_of_replication\n",
        "  mean_profit = []\n",
        "  mean_monthly_cost = []\n",
        "  for i in range(n):\n",
        "    z = -1\n",
        "    #r.seed(a=10*i)\n",
        "    order_reciept = int(L+2)*[0] \n",
        "    I = 50\n",
        "    monthly_cost = []\n",
        "    monthly_orders = []\n",
        "    monthly_demand = []\n",
        "    t = 0 #initial month\n",
        "    L_time = 20\n",
        "    inv = []\n",
        "    lead = []\n",
        "    while t < L: # run for 100 month\n",
        "      I = I + order_reciept[t] \n",
        "      d_t = 0 \n",
        "      dm = [] \n",
        "      while d_t < 1: \n",
        "        d_t = d_t + r.expovariate(15)\n",
        "        pr = r.uniform(0,1)\n",
        "        if pr >= 0 and pr<= 0.5:\n",
        "          D = 1\n",
        "        elif 0.5 < pr <= 0.75:\n",
        "          D = 2\n",
        "        elif 0.75 < pr <= 7/8:  \n",
        "          D = 3\n",
        "        else:\n",
        "          D = 4\n",
        "        dm.append(D)\n",
        "      demand = sum(dm)\n",
        "\n",
        "      I = I -demand\n",
        "      if t > 4:\n",
        "        z = inv[t-4]  -  monthly_demand[t-3] -  monthly_demand[t-2] \n",
        "      if z > 0:\n",
        "        I = I - z\n",
        "      Q = quantity(I,50,30,L_time)\n",
        "      monthly_cost.append(ord_cost(Q)+back_cost(I,demand)+ inv_cost(I))\n",
        "      inv.append(I)\n",
        "      monthly_orders.append(Q)\n",
        "      monthly_demand.append(demand)\n",
        "      if Q > 0:\n",
        "        L_time = r.uniform(0.25,1.25)\n",
        "      else:\n",
        "        L_time = 0\n",
        "        lead.append(L_time)\n",
        "      if 0.25 <= L_time <= 1 and Q > 0:\n",
        "        order_reciept[t+1] = Q\n",
        "      elif L_time > 1 and Q > 0: \n",
        "        order_reciept[t+2] = Q\n",
        "        order_reciept[t+1] = 0\n",
        "      t = t + 1 \n",
        "    seling = sell(inv,monthly_demand,order_reciept)\n",
        "    mean_profit.append(-np.mean(monthly_cost)+ np.mean(seling)) \n",
        "    mean_monthly_cost.append(np.mean(monthly_cost)) \n",
        "  return mean_profit,mean_monthly_cost"
      ],
      "execution_count": 84,
      "outputs": []
    },
    {
      "cell_type": "code",
      "metadata": {
        "id": "CnMUGDgnpWpA"
      },
      "source": [
        "mean_profit,mean_monthly_cost = simulation(10)"
      ],
      "execution_count": 85,
      "outputs": []
    },
    {
      "cell_type": "code",
      "metadata": {
        "colab": {
          "base_uri": "https://localhost:8080/"
        },
        "id": "t58JgdSnpmnr",
        "outputId": "96ec0180-a175-45e9-8d90-4ae5970c57b0"
      },
      "source": [
        "mean_profit"
      ],
      "execution_count": 86,
      "outputs": [
        {
          "output_type": "execute_result",
          "data": {
            "text/plain": [
              "[-21.129999999999995,\n",
              " -51.95000000000002,\n",
              " -37.92999999999998,\n",
              " -70.72999999999996,\n",
              " -61.870000000000005,\n",
              " -87.37,\n",
              " -81.84,\n",
              " -84.39999999999998,\n",
              " -60.94,\n",
              " -73.62]"
            ]
          },
          "metadata": {
            "tags": []
          },
          "execution_count": 86
        }
      ]
    },
    {
      "cell_type": "code",
      "metadata": {
        "colab": {
          "base_uri": "https://localhost:8080/"
        },
        "id": "lYBiFjdKpmrJ",
        "outputId": "acd3bff3-1f42-4bbe-8832-0b34a1b4d427"
      },
      "source": [
        "mean_monthly_cost"
      ],
      "execution_count": 87,
      "outputs": [
        {
          "output_type": "execute_result",
          "data": {
            "text/plain": [
              "[297.13, 304.85, 281.33, 316.03, 315.92, 308.32, 305.44, 314.9, 304.14, 312.92]"
            ]
          },
          "metadata": {
            "tags": []
          },
          "execution_count": 87
        }
      ]
    },
    {
      "cell_type": "code",
      "metadata": {
        "id": "Mtl-cqSOYcb7"
      },
      "source": [
        "import statistics"
      ],
      "execution_count": 88,
      "outputs": []
    },
    {
      "cell_type": "code",
      "metadata": {
        "colab": {
          "base_uri": "https://localhost:8080/"
        },
        "id": "Tt2h1z7BYIiU",
        "outputId": "5539e147-ee6e-4ad2-b8d7-7846a20e11a1"
      },
      "source": [
        "#90% CI FOR MEAN COST\n",
        "S = (statistics.variance(mean_monthly_cost))**0.5\n",
        "R = 10\n",
        "t = 1.833 #alpha = 0.1, \n",
        "hw_cost  = t*S/np.sqrt(R)\n",
        "print(hw_cost)"
      ],
      "execution_count": 89,
      "outputs": [
        {
          "output_type": "stream",
          "text": [
            "6.182195585314007\n"
          ],
          "name": "stdout"
        }
      ]
    },
    {
      "cell_type": "code",
      "metadata": {
        "colab": {
          "base_uri": "https://localhost:8080/"
        },
        "id": "0gOLlzB-ZtH-",
        "outputId": "6ac927f5-5c7a-438d-b76e-25351190e46f"
      },
      "source": [
        "mean_mc = np.mean(mean_monthly_cost)\n",
        "print(mean_mc)"
      ],
      "execution_count": 90,
      "outputs": [
        {
          "output_type": "stream",
          "text": [
            "306.098\n"
          ],
          "name": "stdout"
        }
      ]
    },
    {
      "cell_type": "code",
      "metadata": {
        "colab": {
          "base_uri": "https://localhost:8080/"
        },
        "id": "4ijUWumkaHMR",
        "outputId": "77f1214e-bd65-4086-ade5-a235abb8c7aa"
      },
      "source": [
        "#90% CI FOR MEAN profit\n",
        "S = (statistics.variance(mean_profit))**0.5\n",
        "R = 10\n",
        "t = 1.833 #alpha = 0.1, \n",
        "hw_profit  = t*S/np.sqrt(R)\n",
        "print(hw_profit)"
      ],
      "execution_count": 91,
      "outputs": [
        {
          "output_type": "stream",
          "text": [
            "12.354063064477854\n"
          ],
          "name": "stdout"
        }
      ]
    },
    {
      "cell_type": "code",
      "metadata": {
        "colab": {
          "base_uri": "https://localhost:8080/"
        },
        "id": "1Epz2GfoaKpv",
        "outputId": "1baf6655-15b4-45e0-b77e-fe0ee0e5dc91"
      },
      "source": [
        "mean_mp = np.mean(mean_profit)\n",
        "print(mean_mp)"
      ],
      "execution_count": 92,
      "outputs": [
        {
          "output_type": "stream",
          "text": [
            "-63.178\n"
          ],
          "name": "stdout"
        }
      ]
    }
  ]
}